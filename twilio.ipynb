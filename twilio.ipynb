{
 "cells": [
  {
   "cell_type": "markdown",
   "id": "e4c308c3-192f-4685-9d69-e63a7a01a385",
   "metadata": {},
   "source": [
    "# Initializing Client"
   ]
  },
  {
   "cell_type": "code",
   "execution_count": 8,
   "id": "3fa6710b-a7ef-4235-9279-f6a7a6a31577",
   "metadata": {},
   "outputs": [],
   "source": [
    "account_sid = \"AC98975e3d9027c6d5b54808ee36a284a8\"\n",
    "auth_token = \"04bb935cefd9ed2cec086d3d92349bd1\"\n",
    "user_no = 'whatsapp:+923014446591'\n",
    "ai_no = 'whatsapp:+14155238886'\n",
    "media = ['https://images.unsplash.com/photo-1545093149-618ce3bcf49d?ixlib=rb-1.2.1&ixid=eyJhcHBfaWQiOjEyMDd9&auto=format&fit=crop&w=668&q=80']"
   ]
  },
  {
   "cell_type": "code",
   "execution_count": 9,
   "id": "7ce0e1d6-cffb-40ed-a957-535586208bc0",
   "metadata": {},
   "outputs": [],
   "source": [
    "from twilio.rest import Client"
   ]
  },
  {
   "cell_type": "code",
   "execution_count": 10,
   "id": "ea078091-ec06-48f4-832a-05f6fdd563e8",
   "metadata": {},
   "outputs": [],
   "source": [
    "client = Client(account_sid, auth_token)"
   ]
  },
  {
   "cell_type": "code",
   "execution_count": 11,
   "id": "750aace8-823a-4db8-887f-dd66c07ab37f",
   "metadata": {},
   "outputs": [],
   "source": [
    "def get_image(media_url, from_, to):\n",
    "    image = client.messages.create(\n",
    "        media_url= media,\n",
    "        from_ = from_,\n",
    "        to= to\n",
    "    )\n",
    "\n",
    "    print(image.sid)"
   ]
  },
  {
   "cell_type": "code",
   "execution_count": 15,
   "id": "1225285c-5b8b-4479-8d5d-dfe993adf17d",
   "metadata": {},
   "outputs": [],
   "source": [
    "from flask import Flask, request\n",
    "import time\n",
    "\n",
    "app = Flask(__name__)\n",
    "\n",
    "@app.route('/')\n",
    "def home():\n",
    "    return 'All is well...'"
   ]
  },
  {
   "cell_type": "code",
   "execution_count": null,
   "id": "41466603-e4de-498e-972c-038f04d16ab7",
   "metadata": {},
   "outputs": [],
   "source": []
  }
 ],
 "metadata": {
  "kernelspec": {
   "display_name": "Python 3 (ipykernel)",
   "language": "python",
   "name": "python3"
  },
  "language_info": {
   "codemirror_mode": {
    "name": "ipython",
    "version": 3
   },
   "file_extension": ".py",
   "mimetype": "text/x-python",
   "name": "python",
   "nbconvert_exporter": "python",
   "pygments_lexer": "ipython3",
   "version": "3.10.11"
  }
 },
 "nbformat": 4,
 "nbformat_minor": 5
}
